pip install pandas scikit-learn streamlit


import pandas as pd
import numpy as np
from sklearn.model_selection import train_test_split
from sklearn.ensemble import RandomForestClassifier
from sklearn.metrics import classification_report
import pickle

df = pd.read_csv("final_cbc_diagnoses_dataset_with_labels.csv")
df.info()
df.head()


selected_features = {
    'WBC': 'White Blood Cells',
    'RBC': 'Red Blood Cells',
    'HGB': 'Hemoglobin.1',
    'HCT': 'Hematocrit',
    'MCV': 'MCV',
    'MCH': 'MCH',
    'MCHC': 'MCHC',
    'RDW': 'RDW'  # Used instead of PLT
}

# Clean and rename
clean_df = df[list(selected_features.values()) + ['long_title']].copy()
clean_df.rename(columns={v: k for k, v in selected_features.items()}, inplace=True)
clean_df.dropna(inplace=True)

# Create binary label: 1 if leukemia, else 0
clean_df['Leukemia'] = clean_df['long_title'].str.contains('leukemia', case=False, na=False).astype(int)
clean_df.drop(columns='long_title', inplace=True)

# Check class balance
clean_df['Leukemia'].value_counts()

X = clean_df.drop(columns='Leukemia')
y = clean_df['Leukemia']

X_train, X_test, y_train, y_test = train_test_split(X, y, stratify=y, test_size=0.2, random_state=42)

clf = RandomForestClassifier(n_estimators=100, random_state=42)
clf.fit(X_train, y_train)

# Predict & Evaluate
y_pred = clf.predict(X_test)
print(classification_report(y_test, y_pred))

# Save to file
with open("leukemia_model.pkl", "wb") as f:
    pickle.dump(clf, f)

print("✅ Model saved as leukemia_model.pkl")

